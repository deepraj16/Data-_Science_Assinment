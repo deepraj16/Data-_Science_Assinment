{
 "cells": [
  {
   "cell_type": "code",
   "execution_count": 1,
   "id": "6d125dda-2135-440b-b6d2-8fb5a3f88e0e",
   "metadata": {},
   "outputs": [],
   "source": [
    "import pandas as pd"
   ]
  },
  {
   "cell_type": "code",
   "execution_count": 2,
   "id": "eab411cb-f2c4-4f2a-b88b-9b7ef5559531",
   "metadata": {},
   "outputs": [],
   "source": [
    "df=pd.read_csv('kaggle_pivot_min_descending.csv')"
   ]
  },
  {
   "cell_type": "code",
   "execution_count": 27,
   "id": "d6eeb6a5-3829-4840-a10f-85d64d44944c",
   "metadata": {},
   "outputs": [
    {
     "data": {
      "text/html": [
       "<div>\n",
       "<style scoped>\n",
       "    .dataframe tbody tr th:only-of-type {\n",
       "        vertical-align: middle;\n",
       "    }\n",
       "\n",
       "    .dataframe tbody tr th {\n",
       "        vertical-align: top;\n",
       "    }\n",
       "\n",
       "    .dataframe thead th {\n",
       "        text-align: right;\n",
       "    }\n",
       "</style>\n",
       "<table border=\"1\" class=\"dataframe\">\n",
       "  <thead>\n",
       "    <tr style=\"text-align: right;\">\n",
       "      <th></th>\n",
       "      <th>college_name</th>\n",
       "      <th>score_type</th>\n",
       "      <th>seat_type</th>\n",
       "      <th>branch</th>\n",
       "      <th>sum</th>\n",
       "      <th>count</th>\n",
       "      <th>max</th>\n",
       "      <th>min</th>\n",
       "      <th>mean</th>\n",
       "      <th>max-min</th>\n",
       "      <th>max-mean</th>\n",
       "    </tr>\n",
       "  </thead>\n",
       "  <tbody>\n",
       "    <tr>\n",
       "      <th>0</th>\n",
       "      <td>Veermata Jijabai Technological Institute(VJTI)...</td>\n",
       "      <td>MHT-CET</td>\n",
       "      <td>TFWS</td>\n",
       "      <td>Computer Engineering</td>\n",
       "      <td>299.638141</td>\n",
       "      <td>3</td>\n",
       "      <td>99.913236</td>\n",
       "      <td>99.843394</td>\n",
       "      <td>99.879380</td>\n",
       "      <td>0.069842</td>\n",
       "      <td>0.033856</td>\n",
       "    </tr>\n",
       "    <tr>\n",
       "      <th>1</th>\n",
       "      <td>Veermata Jijabai Technological Institute(VJTI)...</td>\n",
       "      <td>MHT-CET</td>\n",
       "      <td>LOPENS</td>\n",
       "      <td>Computer Engineering</td>\n",
       "      <td>699.371128</td>\n",
       "      <td>7</td>\n",
       "      <td>100.000000</td>\n",
       "      <td>99.829843</td>\n",
       "      <td>99.910161</td>\n",
       "      <td>0.170156</td>\n",
       "      <td>0.089839</td>\n",
       "    </tr>\n",
       "    <tr>\n",
       "      <th>2</th>\n",
       "      <td>Veermata Jijabai Technological Institute(VJTI)...</td>\n",
       "      <td>MHT-CET</td>\n",
       "      <td>GOPENS</td>\n",
       "      <td>Computer Engineering</td>\n",
       "      <td>1698.390955</td>\n",
       "      <td>17</td>\n",
       "      <td>99.995273</td>\n",
       "      <td>99.817615</td>\n",
       "      <td>99.905350</td>\n",
       "      <td>0.177659</td>\n",
       "      <td>0.089923</td>\n",
       "    </tr>\n",
       "    <tr>\n",
       "      <th>3</th>\n",
       "      <td>COEP Technological University</td>\n",
       "      <td>MHT-CET</td>\n",
       "      <td>GNT3S</td>\n",
       "      <td>Computer Engineering</td>\n",
       "      <td>99.803612</td>\n",
       "      <td>1</td>\n",
       "      <td>99.803612</td>\n",
       "      <td>99.803612</td>\n",
       "      <td>99.803612</td>\n",
       "      <td>0.000000</td>\n",
       "      <td>0.000000</td>\n",
       "    </tr>\n",
       "    <tr>\n",
       "      <th>4</th>\n",
       "      <td>COEP Technological University</td>\n",
       "      <td>MHT-CET</td>\n",
       "      <td>LNT2S</td>\n",
       "      <td>Computer Engineering</td>\n",
       "      <td>99.787304</td>\n",
       "      <td>1</td>\n",
       "      <td>99.787304</td>\n",
       "      <td>99.787304</td>\n",
       "      <td>99.787304</td>\n",
       "      <td>0.000000</td>\n",
       "      <td>0.000000</td>\n",
       "    </tr>\n",
       "  </tbody>\n",
       "</table>\n",
       "</div>"
      ],
      "text/plain": [
       "                                        college_name score_type seat_type  \\\n",
       "0  Veermata Jijabai Technological Institute(VJTI)...    MHT-CET      TFWS   \n",
       "1  Veermata Jijabai Technological Institute(VJTI)...    MHT-CET    LOPENS   \n",
       "2  Veermata Jijabai Technological Institute(VJTI)...    MHT-CET    GOPENS   \n",
       "3                      COEP Technological University    MHT-CET     GNT3S   \n",
       "4                      COEP Technological University    MHT-CET     LNT2S   \n",
       "\n",
       "                 branch          sum  count         max        min       mean  \\\n",
       "0  Computer Engineering   299.638141      3   99.913236  99.843394  99.879380   \n",
       "1  Computer Engineering   699.371128      7  100.000000  99.829843  99.910161   \n",
       "2  Computer Engineering  1698.390955     17   99.995273  99.817615  99.905350   \n",
       "3  Computer Engineering    99.803612      1   99.803612  99.803612  99.803612   \n",
       "4  Computer Engineering    99.787304      1   99.787304  99.787304  99.787304   \n",
       "\n",
       "    max-min  max-mean  \n",
       "0  0.069842  0.033856  \n",
       "1  0.170156  0.089839  \n",
       "2  0.177659  0.089923  \n",
       "3  0.000000  0.000000  \n",
       "4  0.000000  0.000000  "
      ]
     },
     "execution_count": 27,
     "metadata": {},
     "output_type": "execute_result"
    }
   ],
   "source": [
    "df.head(5)"
   ]
  },
  {
   "cell_type": "code",
   "execution_count": 26,
   "id": "e651b83c-17be-4df0-9b74-e1a5161160d9",
   "metadata": {},
   "outputs": [
    {
     "data": {
      "text/plain": [
       "seat_type\n",
       "AI          193\n",
       "TFWS        179\n",
       "LOPENH      173\n",
       "LOPENO      172\n",
       "GOPENH      171\n",
       "           ... \n",
       "DEFRNT1S      1\n",
       "PWDRSCH       1\n",
       "LVJO          1\n",
       "PWDRNT1S      1\n",
       "PWDRNT3S      1\n",
       "Name: count, Length: 72, dtype: int64"
      ]
     },
     "execution_count": 26,
     "metadata": {},
     "output_type": "execute_result"
    }
   ],
   "source": [
    "df_new['seat_type'].value_counts()"
   ]
  },
  {
   "cell_type": "code",
   "execution_count": 91,
   "id": "ddc0a50f-5a9e-4ed7-82d5-2f7ce4a71ca2",
   "metadata": {},
   "outputs": [],
   "source": [
    "df_new=df[df['branch']=='Computer Engineering']\n"
   ]
  },
  {
   "cell_type": "code",
   "execution_count": 92,
   "id": "056b52b5-e783-4a57-b9e4-57d149621c07",
   "metadata": {},
   "outputs": [],
   "source": [
    "df_new=df_new[(df_new['seat_type']=='TFWS') ]"
   ]
  },
  {
   "cell_type": "code",
   "execution_count": 93,
   "id": "b94add6c-11d2-4031-9f06-a58a82ebe4c3",
   "metadata": {},
   "outputs": [
    {
     "data": {
      "text/plain": [
       "{'TFWS'}"
      ]
     },
     "execution_count": 93,
     "metadata": {},
     "output_type": "execute_result"
    }
   ],
   "source": [
    "set(df_new['seat_type'])\n"
   ]
  },
  {
   "cell_type": "code",
   "execution_count": 94,
   "id": "5eeb7c1d-9fe4-4755-9ef8-1b2d82ae73d7",
   "metadata": {},
   "outputs": [
    {
     "data": {
      "text/plain": [
       "<Axes: ylabel='count'>"
      ]
     },
     "execution_count": 94,
     "metadata": {},
     "output_type": "execute_result"
    },
    {
     "data": {
      "image/png": "[encoded data removed]",
      "text/plain": [
       "<Figure size 640x480 with 1 Axes>"
      ]
     },
     "metadata": {},
     "output_type": "display_data"
    }
   ],
   "source": [
    "import matplotlib.pyplot as plt\n",
    "df_new['seat_type'].value_counts().plot(kind='pie',autopct='%.2f')"
   ]
  },
  {
   "cell_type": "code",
   "execution_count": 95,
   "id": "20207de5-3677-441d-adea-52707057bd51",
   "metadata": {},
   "outputs": [],
   "source": [
    "df_new=df_new.iloc[:,:9]"
   ]
  },
  {
   "cell_type": "code",
   "execution_count": 96,
   "id": "e31b4281-9146-40e8-beae-fad60d0e8c04",
   "metadata": {},
   "outputs": [
    {
     "data": {
      "text/html": [
       "<div>\n",
       "<style scoped>\n",
       "    .dataframe tbody tr th:only-of-type {\n",
       "        vertical-align: middle;\n",
       "    }\n",
       "\n",
       "    .dataframe tbody tr th {\n",
       "        vertical-align: top;\n",
       "    }\n",
       "\n",
       "    .dataframe thead th {\n",
       "        text-align: right;\n",
       "    }\n",
       "</style>\n",
       "<table border=\"1\" class=\"dataframe\">\n",
       "  <thead>\n",
       "    <tr style=\"text-align: right;\">\n",
       "      <th></th>\n",
       "      <th>college_name</th>\n",
       "      <th>score_type</th>\n",
       "      <th>seat_type</th>\n",
       "      <th>branch</th>\n",
       "      <th>sum</th>\n",
       "      <th>count</th>\n",
       "      <th>max</th>\n",
       "      <th>min</th>\n",
       "      <th>mean</th>\n",
       "    </tr>\n",
       "  </thead>\n",
       "  <tbody>\n",
       "    <tr>\n",
       "      <th>0</th>\n",
       "      <td>Veermata Jijabai Technological Institute(VJTI)...</td>\n",
       "      <td>MHT-CET</td>\n",
       "      <td>TFWS</td>\n",
       "      <td>Computer Engineering</td>\n",
       "      <td>299.638141</td>\n",
       "      <td>3</td>\n",
       "      <td>99.913236</td>\n",
       "      <td>99.843394</td>\n",
       "      <td>99.879380</td>\n",
       "    </tr>\n",
       "    <tr>\n",
       "      <th>5</th>\n",
       "      <td>COEP Technological University</td>\n",
       "      <td>MHT-CET</td>\n",
       "      <td>TFWS</td>\n",
       "      <td>Computer Engineering</td>\n",
       "      <td>798.878020</td>\n",
       "      <td>8</td>\n",
       "      <td>99.933784</td>\n",
       "      <td>99.777304</td>\n",
       "      <td>99.859752</td>\n",
       "    </tr>\n",
       "    <tr>\n",
       "      <th>15</th>\n",
       "      <td>Bhartiya Vidya Bhavan's Sardar Patel Institute...</td>\n",
       "      <td>MHT-CET</td>\n",
       "      <td>TFWS</td>\n",
       "      <td>Computer Engineering</td>\n",
       "      <td>597.980983</td>\n",
       "      <td>6</td>\n",
       "      <td>99.691929</td>\n",
       "      <td>99.629841</td>\n",
       "      <td>99.663497</td>\n",
       "    </tr>\n",
       "    <tr>\n",
       "      <th>26</th>\n",
       "      <td>Pune Institute of Computer Technology, Dhankav...</td>\n",
       "      <td>MHT-CET</td>\n",
       "      <td>TFWS</td>\n",
       "      <td>Computer Engineering</td>\n",
       "      <td>1195.727542</td>\n",
       "      <td>12</td>\n",
       "      <td>99.843594</td>\n",
       "      <td>99.525794</td>\n",
       "      <td>99.643962</td>\n",
       "    </tr>\n",
       "    <tr>\n",
       "      <th>58</th>\n",
       "      <td>Shri Vile Parle Kelvani Mandal's Dwarkadas J. ...</td>\n",
       "      <td>MHT-CET</td>\n",
       "      <td>TFWS</td>\n",
       "      <td>Computer Engineering</td>\n",
       "      <td>894.617932</td>\n",
       "      <td>9</td>\n",
       "      <td>99.601594</td>\n",
       "      <td>99.295741</td>\n",
       "      <td>99.401992</td>\n",
       "    </tr>\n",
       "    <tr>\n",
       "      <th>98</th>\n",
       "      <td>Bansilal Ramnath Agarawal Charitable Trust's V...</td>\n",
       "      <td>MHT-CET</td>\n",
       "      <td>TFWS</td>\n",
       "      <td>Computer Engineering</td>\n",
       "      <td>1191.249486</td>\n",
       "      <td>12</td>\n",
       "      <td>99.668826</td>\n",
       "      <td>98.996880</td>\n",
       "      <td>99.270790</td>\n",
       "    </tr>\n",
       "  </tbody>\n",
       "</table>\n",
       "</div>"
      ],
      "text/plain": [
       "                                         college_name score_type seat_type  \\\n",
       "0   Veermata Jijabai Technological Institute(VJTI)...    MHT-CET      TFWS   \n",
       "5                       COEP Technological University    MHT-CET      TFWS   \n",
       "15  Bhartiya Vidya Bhavan's Sardar Patel Institute...    MHT-CET      TFWS   \n",
       "26  Pune Institute of Computer Technology, Dhankav...    MHT-CET      TFWS   \n",
       "58  Shri Vile Parle Kelvani Mandal's Dwarkadas J. ...    MHT-CET      TFWS   \n",
       "98  Bansilal Ramnath Agarawal Charitable Trust's V...    MHT-CET      TFWS   \n",
       "\n",
       "                  branch          sum  count        max        min       mean  \n",
       "0   Computer Engineering   299.638141      3  99.913236  99.843394  99.879380  \n",
       "5   Computer Engineering   798.878020      8  99.933784  99.777304  99.859752  \n",
       "15  Computer Engineering   597.980983      6  99.691929  99.629841  99.663497  \n",
       "26  Computer Engineering  1195.727542     12  99.843594  99.525794  99.643962  \n",
       "58  Computer Engineering   894.617932      9  99.601594  99.295741  99.401992  \n",
       "98  Computer Engineering  1191.249486     12  99.668826  98.996880  99.270790  "
      ]
     },
     "execution_count": 96,
     "metadata": {},
     "output_type": "execute_result"
    }
   ],
   "source": [
    "df_new.head(6)"
   ]
  },
  {
   "cell_type": "code",
   "execution_count": 97,
   "id": "0eab330d-26b1-4704-a62f-14a372dfd6aa",
   "metadata": {},
   "outputs": [
    {
     "data": {
      "text/plain": [
       "(179, 9)"
      ]
     },
     "execution_count": 97,
     "metadata": {},
     "output_type": "execute_result"
    }
   ],
   "source": [
    "df_new.shape"
   ]
  },
  {
   "cell_type": "code",
   "execution_count": 99,
   "id": "058bdb45-3fe2-45db-aeb2-418e9bffb2bd",
   "metadata": {},
   "outputs": [],
   "source": [
    "df_new=df_new.iloc[:, [0,6,7,8]]"
   ]
  },
  {
   "cell_type": "code",
   "execution_count": 68,
   "id": "3b16ac6d-3da4-41bd-b0b5-df8b32107194",
   "metadata": {},
   "outputs": [],
   "source": [
    "df_new.to_csv('output.csv', index=False)"
   ]
  },
  {
   "cell_type": "code",
   "execution_count": 100,
   "id": "6f804888-3436-4006-a4e1-3ab6196b8852",
   "metadata": {},
   "outputs": [],
   "source": [
    "df_new.to_csv('output1.csv',index=False)"
   ]
  },
  {
   "cell_type": "code",
   "execution_count": 3,
   "id": "0828655a-2d86-4606-aaaa-f96bb92b618b",
   "metadata": {},
   "outputs": [],
   "source": [
    "df=pd.read_csv('output1.csv')"
   ]
  },
  {
   "cell_type": "code",
   "execution_count": 4,
   "id": "73d00384-bb97-4dac-b841-e3bc17cd4273",
   "metadata": {},
   "outputs": [
    {
     "data": {
      "text/html": [
       "<div>\n",
       "<style scoped>\n",
       "    .dataframe tbody tr th:only-of-type {\n",
       "        vertical-align: middle;\n",
       "    }\n",
       "\n",
       "    .dataframe tbody tr th {\n",
       "        vertical-align: top;\n",
       "    }\n",
       "\n",
       "    .dataframe thead th {\n",
       "        text-align: right;\n",
       "    }\n",
       "</style>\n",
       "<table border=\"1\" class=\"dataframe\">\n",
       "  <thead>\n",
       "    <tr style=\"text-align: right;\">\n",
       "      <th></th>\n",
       "      <th>college_name</th>\n",
       "      <th>max</th>\n",
       "      <th>min</th>\n",
       "      <th>mean</th>\n",
       "      <th>fess</th>\n",
       "      <th>rating</th>\n",
       "      <th>public/private</th>\n",
       "    </tr>\n",
       "  </thead>\n",
       "  <tbody>\n",
       "    <tr>\n",
       "      <th>0</th>\n",
       "      <td>Veermata Jijabai Technological Institute(VJTI)...</td>\n",
       "      <td>99.913236</td>\n",
       "      <td>99.843394</td>\n",
       "      <td>99.879380</td>\n",
       "      <td>30,000</td>\n",
       "      <td>10</td>\n",
       "      <td>1.0</td>\n",
       "    </tr>\n",
       "    <tr>\n",
       "      <th>1</th>\n",
       "      <td>COEP Technological University</td>\n",
       "      <td>99.933784</td>\n",
       "      <td>99.777304</td>\n",
       "      <td>99.859752</td>\n",
       "      <td>40,000</td>\n",
       "      <td>9</td>\n",
       "      <td>1.0</td>\n",
       "    </tr>\n",
       "  </tbody>\n",
       "</table>\n",
       "</div>"
      ],
      "text/plain": [
       "                                        college_name        max        min  \\\n",
       "0  Veermata Jijabai Technological Institute(VJTI)...  99.913236  99.843394   \n",
       "1                      COEP Technological University  99.933784  99.777304   \n",
       "\n",
       "        mean    fess  rating  public/private  \n",
       "0  99.879380  30,000      10             1.0  \n",
       "1  99.859752  40,000       9             1.0  "
      ]
     },
     "execution_count": 4,
     "metadata": {},
     "output_type": "execute_result"
    }
   ],
   "source": [
    "df.head(2)"
   ]
  },
  {
   "cell_type": "code",
   "execution_count": 7,
   "id": "a32ea22d-ed33-46b4-8cc4-690d4756fc38",
   "metadata": {},
   "outputs": [],
   "source": [
    "df=df.iloc[:99,:]"
   ]
  },
  {
   "cell_type": "code",
   "execution_count": 8,
   "id": "9ab7a7bf-ed52-4e7b-98d7-9fecd4a7c175",
   "metadata": {},
   "outputs": [
    {
     "name": "stdout",
     "output_type": "stream",
     "text": [
      "<class 'pandas.core.frame.DataFrame'>\n",
      "RangeIndex: 99 entries, 0 to 98\n",
      "Data columns (total 7 columns):\n",
      " #   Column          Non-Null Count  Dtype  \n",
      "---  ------          --------------  -----  \n",
      " 0   college_name    99 non-null     object \n",
      " 1   max             99 non-null     float64\n",
      " 2   min             99 non-null     float64\n",
      " 3   mean            99 non-null     float64\n",
      " 4   fess            99 non-null     object \n",
      " 5   rating          99 non-null     int64  \n",
      " 6   public/private  98 non-null     float64\n",
      "dtypes: float64(4), int64(1), object(2)\n",
      "memory usage: 5.5+ KB\n"
     ]
    }
   ],
   "source": [
    "df.info()"
   ]
  },
  {
   "cell_type": "code",
   "execution_count": 10,
   "id": "13df7b8c-e0b2-46c2-9235-d971e82cfd14",
   "metadata": {},
   "outputs": [
    {
     "name": "stdout",
     "output_type": "stream",
     "text": [
      "<class 'pandas.core.frame.DataFrame'>\n",
      "RangeIndex: 99 entries, 0 to 98\n",
      "Data columns (total 7 columns):\n",
      " #   Column          Non-Null Count  Dtype\n",
      "---  ------          --------------  -----\n",
      " 0   college_name    99 non-null     bool \n",
      " 1   max             99 non-null     bool \n",
      " 2   min             99 non-null     bool \n",
      " 3   mean            99 non-null     bool \n",
      " 4   fess            99 non-null     bool \n",
      " 5   rating          99 non-null     bool \n",
      " 6   public/private  99 non-null     bool \n",
      "dtypes: bool(7)\n",
      "memory usage: 825.0 bytes\n"
     ]
    }
   ],
   "source": [
    "df.isnull().info()"
   ]
  },
  {
   "cell_type": "code",
   "execution_count": 12,
   "id": "4c20ff7a-8d4a-47b4-9d75-13c6e75baad9",
   "metadata": {},
   "outputs": [],
   "source": [
    "df.to_csv('output2.csv')"
   ]
  },
  {
   "cell_type": "code",
   "execution_count": null,
   "id": "87da0969-aa45-4650-a063-6622db1bf56a",
   "metadata": {},
   "outputs": [],
   "source": []
  }
 ],
 "metadata": {
  "kernelspec": {
   "display_name": "Python 3 (ipykernel)",
   "language": "python",
   "name": "python3"
  },
  "language_info": {
   "codemirror_mode": {
    "name": "ipython",
    "version": 3
   },
   "file_extension": ".py",
   "mimetype": "text/x-python",
   "name": "python",
   "nbconvert_exporter": "python",
   "pygments_lexer": "ipython3",
   "version": "3.11.7"
  }
 },
 "nbformat": 4,
 "nbformat_minor": 5
}
