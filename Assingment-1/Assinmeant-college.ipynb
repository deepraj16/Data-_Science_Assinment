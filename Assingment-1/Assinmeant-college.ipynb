{
 "cells": [
  {
   "cell_type": "code",
   "execution_count": 1,
   "id": "adcc1d2a-edf2-4334-8dc8-0cecf71654ec",
   "metadata": {},
   "outputs": [],
   "source": [
    "import pandas as pd \n",
    "import numpy as np \n",
    "import matplotlib.pyplot as plt  "
   ]
  },
  {
   "cell_type": "code",
   "execution_count": 2,
   "id": "af2053ee-2189-46d4-bf21-95f5eef69244",
   "metadata": {},
   "outputs": [],
   "source": [
    "df =pd.read_csv(\"college_data.csv\")"
   ]
  },
  {
   "cell_type": "code",
   "execution_count": 3,
   "id": "df3c5f53-baf9-4d0e-8882-ebfac4b6387b",
   "metadata": {},
   "outputs": [
    {
     "data": {
      "text/html": [
       "<div>\n",
       "<style scoped>\n",
       "    .dataframe tbody tr th:only-of-type {\n",
       "        vertical-align: middle;\n",
       "    }\n",
       "\n",
       "    .dataframe tbody tr th {\n",
       "        vertical-align: top;\n",
       "    }\n",
       "\n",
       "    .dataframe thead th {\n",
       "        text-align: right;\n",
       "    }\n",
       "</style>\n",
       "<table border=\"1\" class=\"dataframe\">\n",
       "  <thead>\n",
       "    <tr style=\"text-align: right;\">\n",
       "      <th></th>\n",
       "      <th>Institute code</th>\n",
       "      <th>College Name</th>\n",
       "      <th>Fees</th>\n",
       "      <th>GOVERNMENT/PRIVATE</th>\n",
       "      <th>Location</th>\n",
       "      <th>Computer_ CET_cuttoff</th>\n",
       "      <th>Computer_JEE_cuttoff</th>\n",
       "      <th>GENERAL_cuttoff</th>\n",
       "      <th>OBC_cuttoffs</th>\n",
       "      <th>SC/ST_cuttoff</th>\n",
       "      <th>...</th>\n",
       "      <th>Quota(management)(yes/no)</th>\n",
       "      <th>Intakes(seats)</th>\n",
       "      <th>Placement   (on_campus)(yes/no)</th>\n",
       "      <th>college_hostels_available</th>\n",
       "      <th>Academic rating (out of 5)</th>\n",
       "      <th>Faculty rating(out of 5)</th>\n",
       "      <th>Infrastructure rating (out of 5)</th>\n",
       "      <th>accomodation rating (out of 5)</th>\n",
       "      <th>Placement rating (out of 5)</th>\n",
       "      <th>Overall rating (out of 10)</th>\n",
       "    </tr>\n",
       "  </thead>\n",
       "  <tbody>\n",
       "    <tr>\n",
       "      <th>0</th>\n",
       "      <td>2250</td>\n",
       "      <td>Aurangabad College of Engineering</td>\n",
       "      <td>60500</td>\n",
       "      <td>Un-Aided</td>\n",
       "      <td>Gut No 52, Tuljapur Shivar,Harsul-Sawangi, Nay...</td>\n",
       "      <td>80.04</td>\n",
       "      <td>61.1804012</td>\n",
       "      <td>78.87</td>\n",
       "      <td>69.3</td>\n",
       "      <td>56.740000</td>\n",
       "      <td>...</td>\n",
       "      <td>Yes</td>\n",
       "      <td>60</td>\n",
       "      <td>Yes</td>\n",
       "      <td>Yes</td>\n",
       "      <td>NaN</td>\n",
       "      <td>4.0</td>\n",
       "      <td>2.25</td>\n",
       "      <td>NaN</td>\n",
       "      <td>4.50</td>\n",
       "      <td>NaN</td>\n",
       "    </tr>\n",
       "    <tr>\n",
       "      <th>1</th>\n",
       "      <td>6605</td>\n",
       "      <td>COLLEGE OF ENGINEERING VAIRAG</td>\n",
       "      <td>60000</td>\n",
       "      <td>Un-Aided/ Non-Autonomus</td>\n",
       "      <td>Dhengale-Patil Nagar, Sasure-Vairag, Gat No.67...</td>\n",
       "      <td>69</td>\n",
       "      <td>65</td>\n",
       "      <td>69</td>\n",
       "      <td>65</td>\n",
       "      <td>67.000000</td>\n",
       "      <td>...</td>\n",
       "      <td>yes</td>\n",
       "      <td>NaN</td>\n",
       "      <td>NaN</td>\n",
       "      <td>Yes</td>\n",
       "      <td>NaN</td>\n",
       "      <td>NaN</td>\n",
       "      <td>NaN</td>\n",
       "      <td>NaN</td>\n",
       "      <td>NaN</td>\n",
       "      <td>NaN</td>\n",
       "    </tr>\n",
       "    <tr>\n",
       "      <th>2</th>\n",
       "      <td>6609</td>\n",
       "      <td>JAIHIND COLLEGE OF ENGINEERING</td>\n",
       "      <td>75000</td>\n",
       "      <td>Un-Aided/ Autonomus</td>\n",
       "      <td>SH 52, Narayangaon - Junnar Rd, Narayangaon, P...</td>\n",
       "      <td>75.17</td>\n",
       "      <td>67.125118</td>\n",
       "      <td>78.8754662</td>\n",
       "      <td>76.6367377</td>\n",
       "      <td>48.058902</td>\n",
       "      <td>...</td>\n",
       "      <td>Yes</td>\n",
       "      <td>120</td>\n",
       "      <td>Yes</td>\n",
       "      <td>Yes</td>\n",
       "      <td>NaN</td>\n",
       "      <td>4.0</td>\n",
       "      <td>3.00</td>\n",
       "      <td>NaN</td>\n",
       "      <td>1.25</td>\n",
       "      <td>NaN</td>\n",
       "    </tr>\n",
       "  </tbody>\n",
       "</table>\n",
       "<p>3 rows × 21 columns</p>\n",
       "</div>"
      ],
      "text/plain": [
       "  Institute code                       College Name   Fees  \\\n",
       "0           2250  Aurangabad College of Engineering  60500   \n",
       "1           6605      COLLEGE OF ENGINEERING VAIRAG  60000   \n",
       "2           6609     JAIHIND COLLEGE OF ENGINEERING  75000   \n",
       "\n",
       "        GOVERNMENT/PRIVATE                                           Location  \\\n",
       "0                 Un-Aided  Gut No 52, Tuljapur Shivar,Harsul-Sawangi, Nay...   \n",
       "1  Un-Aided/ Non-Autonomus  Dhengale-Patil Nagar, Sasure-Vairag, Gat No.67...   \n",
       "2      Un-Aided/ Autonomus  SH 52, Narayangaon - Junnar Rd, Narayangaon, P...   \n",
       "\n",
       "  Computer_ CET_cuttoff  Computer_JEE_cuttoff  GENERAL_cuttoff OBC_cuttoffs  \\\n",
       "0                  80.04            61.1804012           78.87         69.3   \n",
       "1                     69                    65              69           65   \n",
       "2                  75.17             67.125118      78.8754662   76.6367377   \n",
       "\n",
       "   SC/ST_cuttoff  ... Quota(management)(yes/no) Intakes(seats)  \\\n",
       "0      56.740000  ...                       Yes             60   \n",
       "1      67.000000  ...                       yes            NaN   \n",
       "2      48.058902  ...                       Yes            120   \n",
       "\n",
       "  Placement   (on_campus)(yes/no) college_hostels_available  \\\n",
       "0                             Yes                       Yes   \n",
       "1                             NaN                       Yes   \n",
       "2                             Yes                       Yes   \n",
       "\n",
       "  Academic rating (out of 5)  Faculty rating(out of 5)  \\\n",
       "0                        NaN                       4.0   \n",
       "1                        NaN                       NaN   \n",
       "2                        NaN                       4.0   \n",
       "\n",
       "   Infrastructure rating (out of 5)  accomodation rating (out of 5)  \\\n",
       "0                              2.25                             NaN   \n",
       "1                               NaN                             NaN   \n",
       "2                              3.00                             NaN   \n",
       "\n",
       "   Placement rating (out of 5)  Overall rating (out of 10)  \n",
       "0                         4.50                         NaN  \n",
       "1                          NaN                         NaN  \n",
       "2                         1.25                         NaN  \n",
       "\n",
       "[3 rows x 21 columns]"
      ]
     },
     "execution_count": 3,
     "metadata": {},
     "output_type": "execute_result"
    }
   ],
   "source": [
    "df.head(3)"
   ]
  },
  {
   "cell_type": "code",
   "execution_count": 4,
   "id": "7368aa48-579d-4a67-8825-f1610df69174",
   "metadata": {},
   "outputs": [
    {
     "data": {
      "text/plain": [
       "(348, 21)"
      ]
     },
     "execution_count": 4,
     "metadata": {},
     "output_type": "execute_result"
    }
   ],
   "source": [
    "df.shape"
   ]
  },
  {
   "cell_type": "code",
   "execution_count": 5,
   "id": "007b7d87-5a73-4d4b-9071-cf0d0c53b705",
   "metadata": {},
   "outputs": [
    {
     "data": {
      "text/plain": [
       "Institute code                        1.149425\n",
       "College Name                          0.000000\n",
       "Fees                                  0.000000\n",
       "GOVERNMENT/PRIVATE                    0.000000\n",
       "Location                              0.574713\n",
       "Computer_ CET_cuttoff                 4.310345\n",
       "Computer_JEE_cuttoff                 11.206897\n",
       "GENERAL_cuttoff                       3.160920\n",
       "OBC_cuttoffs                          8.333333\n",
       "SC/ST_cuttoff                        10.632184\n",
       "EWS_cuttoffs                         10.919540\n",
       "Quota(management)(yes/no)             2.298851\n",
       "Intakes(seats)                        4.022989\n",
       "Placement   (on_campus)(yes/no)       2.586207\n",
       "college_hostels_available             1.724138\n",
       "Academic rating (out of 5)           93.390805\n",
       "Faculty rating(out of 5)              4.885057\n",
       "Infrastructure rating (out of 5)      6.034483\n",
       "accomodation rating (out of 5)       95.114943\n",
       "Placement rating (out of 5)          17.241379\n",
       "Overall rating (out of 10)          100.000000\n",
       "dtype: float64"
      ]
     },
     "execution_count": 5,
     "metadata": {},
     "output_type": "execute_result"
    }
   ],
   "source": [
    "df.isnull().mean()*100"
   ]
  },
  {
   "cell_type": "code",
   "execution_count": 8,
   "id": "e6780b85-a573-4bef-9b37-c3f9af249652",
   "metadata": {},
   "outputs": [],
   "source": [
    "# set(df['Location'])"
   ]
  },
  {
   "cell_type": "code",
   "execution_count": 9,
   "id": "cfe873f4-fd23-4411-87d9-0384b53cdf9e",
   "metadata": {},
   "outputs": [],
   "source": [
    "# clusitring according to the dataset"
   ]
  },
  {
   "cell_type": "code",
   "execution_count": 6,
   "id": "d3ceb3d1-c993-4299-b1bc-d61105d266b5",
   "metadata": {},
   "outputs": [],
   "source": [
    "from sklearn.impute import SimpleImputer \n",
    "sim =SimpleImputer(missing_values=np.NaN,strategy='mean')"
   ]
  },
  {
   "cell_type": "code",
   "execution_count": 13,
   "id": "e191dba5-89ec-43ae-9964-ee6f2bcf1786",
   "metadata": {},
   "outputs": [
    {
     "ename": "ValueError",
     "evalue": "Cannot use mean strategy with non-numeric data:\ncould not convert string to float: '82.4069575)'",
     "output_type": "error",
     "traceback": [
      "\u001b[1;31m---------------------------------------------------------------------------\u001b[0m",
      "\u001b[1;31mValueError\u001b[0m                                Traceback (most recent call last)",
      "Cell \u001b[1;32mIn[13], line 1\u001b[0m\n\u001b[1;32m----> 1\u001b[0m df[\u001b[38;5;124m\"\u001b[39m\u001b[38;5;124mComputer_ CET_cuttoff \u001b[39m\u001b[38;5;124m\"\u001b[39m] \u001b[38;5;241m=\u001b[39msim\u001b[38;5;241m.\u001b[39mfit_transform(df[[\u001b[38;5;124m'\u001b[39m\u001b[38;5;124mComputer_ CET_cuttoff \u001b[39m\u001b[38;5;124m'\u001b[39m]])\n",
      "File \u001b[1;32m~\\anaconda3\\Lib\\site-packages\\sklearn\\utils\\_set_output.py:316\u001b[0m, in \u001b[0;36m_wrap_method_output.<locals>.wrapped\u001b[1;34m(self, X, *args, **kwargs)\u001b[0m\n\u001b[0;32m    314\u001b[0m \u001b[38;5;129m@wraps\u001b[39m(f)\n\u001b[0;32m    315\u001b[0m \u001b[38;5;28;01mdef\u001b[39;00m \u001b[38;5;21mwrapped\u001b[39m(\u001b[38;5;28mself\u001b[39m, X, \u001b[38;5;241m*\u001b[39margs, \u001b[38;5;241m*\u001b[39m\u001b[38;5;241m*\u001b[39mkwargs):\n\u001b[1;32m--> 316\u001b[0m     data_to_wrap \u001b[38;5;241m=\u001b[39m f(\u001b[38;5;28mself\u001b[39m, X, \u001b[38;5;241m*\u001b[39margs, \u001b[38;5;241m*\u001b[39m\u001b[38;5;241m*\u001b[39mkwargs)\n\u001b[0;32m    317\u001b[0m     \u001b[38;5;28;01mif\u001b[39;00m \u001b[38;5;28misinstance\u001b[39m(data_to_wrap, \u001b[38;5;28mtuple\u001b[39m):\n\u001b[0;32m    318\u001b[0m         \u001b[38;5;66;03m# only wrap the first output for cross decomposition\u001b[39;00m\n\u001b[0;32m    319\u001b[0m         return_tuple \u001b[38;5;241m=\u001b[39m (\n\u001b[0;32m    320\u001b[0m             _wrap_data_with_container(method, data_to_wrap[\u001b[38;5;241m0\u001b[39m], X, \u001b[38;5;28mself\u001b[39m),\n\u001b[0;32m    321\u001b[0m             \u001b[38;5;241m*\u001b[39mdata_to_wrap[\u001b[38;5;241m1\u001b[39m:],\n\u001b[0;32m    322\u001b[0m         )\n",
      "File \u001b[1;32m~\\anaconda3\\Lib\\site-packages\\sklearn\\base.py:1098\u001b[0m, in \u001b[0;36mTransformerMixin.fit_transform\u001b[1;34m(self, X, y, **fit_params)\u001b[0m\n\u001b[0;32m   1083\u001b[0m         warnings\u001b[38;5;241m.\u001b[39mwarn(\n\u001b[0;32m   1084\u001b[0m             (\n\u001b[0;32m   1085\u001b[0m                 \u001b[38;5;124mf\u001b[39m\u001b[38;5;124m\"\u001b[39m\u001b[38;5;124mThis object (\u001b[39m\u001b[38;5;132;01m{\u001b[39;00m\u001b[38;5;28mself\u001b[39m\u001b[38;5;241m.\u001b[39m\u001b[38;5;18m__class__\u001b[39m\u001b[38;5;241m.\u001b[39m\u001b[38;5;18m__name__\u001b[39m\u001b[38;5;132;01m}\u001b[39;00m\u001b[38;5;124m) has a `transform`\u001b[39m\u001b[38;5;124m\"\u001b[39m\n\u001b[1;32m   (...)\u001b[0m\n\u001b[0;32m   1093\u001b[0m             \u001b[38;5;167;01mUserWarning\u001b[39;00m,\n\u001b[0;32m   1094\u001b[0m         )\n\u001b[0;32m   1096\u001b[0m \u001b[38;5;28;01mif\u001b[39;00m y \u001b[38;5;129;01mis\u001b[39;00m \u001b[38;5;28;01mNone\u001b[39;00m:\n\u001b[0;32m   1097\u001b[0m     \u001b[38;5;66;03m# fit method of arity 1 (unsupervised transformation)\u001b[39;00m\n\u001b[1;32m-> 1098\u001b[0m     \u001b[38;5;28;01mreturn\u001b[39;00m \u001b[38;5;28mself\u001b[39m\u001b[38;5;241m.\u001b[39mfit(X, \u001b[38;5;241m*\u001b[39m\u001b[38;5;241m*\u001b[39mfit_params)\u001b[38;5;241m.\u001b[39mtransform(X)\n\u001b[0;32m   1099\u001b[0m \u001b[38;5;28;01melse\u001b[39;00m:\n\u001b[0;32m   1100\u001b[0m     \u001b[38;5;66;03m# fit method of arity 2 (supervised transformation)\u001b[39;00m\n\u001b[0;32m   1101\u001b[0m     \u001b[38;5;28;01mreturn\u001b[39;00m \u001b[38;5;28mself\u001b[39m\u001b[38;5;241m.\u001b[39mfit(X, y, \u001b[38;5;241m*\u001b[39m\u001b[38;5;241m*\u001b[39mfit_params)\u001b[38;5;241m.\u001b[39mtransform(X)\n",
      "File \u001b[1;32m~\\anaconda3\\Lib\\site-packages\\sklearn\\base.py:1473\u001b[0m, in \u001b[0;36m_fit_context.<locals>.decorator.<locals>.wrapper\u001b[1;34m(estimator, *args, **kwargs)\u001b[0m\n\u001b[0;32m   1466\u001b[0m     estimator\u001b[38;5;241m.\u001b[39m_validate_params()\n\u001b[0;32m   1468\u001b[0m \u001b[38;5;28;01mwith\u001b[39;00m config_context(\n\u001b[0;32m   1469\u001b[0m     skip_parameter_validation\u001b[38;5;241m=\u001b[39m(\n\u001b[0;32m   1470\u001b[0m         prefer_skip_nested_validation \u001b[38;5;129;01mor\u001b[39;00m global_skip_validation\n\u001b[0;32m   1471\u001b[0m     )\n\u001b[0;32m   1472\u001b[0m ):\n\u001b[1;32m-> 1473\u001b[0m     \u001b[38;5;28;01mreturn\u001b[39;00m fit_method(estimator, \u001b[38;5;241m*\u001b[39margs, \u001b[38;5;241m*\u001b[39m\u001b[38;5;241m*\u001b[39mkwargs)\n",
      "File \u001b[1;32m~\\anaconda3\\Lib\\site-packages\\sklearn\\impute\\_base.py:421\u001b[0m, in \u001b[0;36mSimpleImputer.fit\u001b[1;34m(self, X, y)\u001b[0m\n\u001b[0;32m    403\u001b[0m \u001b[38;5;129m@_fit_context\u001b[39m(prefer_skip_nested_validation\u001b[38;5;241m=\u001b[39m\u001b[38;5;28;01mTrue\u001b[39;00m)\n\u001b[0;32m    404\u001b[0m \u001b[38;5;28;01mdef\u001b[39;00m \u001b[38;5;21mfit\u001b[39m(\u001b[38;5;28mself\u001b[39m, X, y\u001b[38;5;241m=\u001b[39m\u001b[38;5;28;01mNone\u001b[39;00m):\n\u001b[0;32m    405\u001b[0m \u001b[38;5;250m    \u001b[39m\u001b[38;5;124;03m\"\"\"Fit the imputer on `X`.\u001b[39;00m\n\u001b[0;32m    406\u001b[0m \n\u001b[0;32m    407\u001b[0m \u001b[38;5;124;03m    Parameters\u001b[39;00m\n\u001b[1;32m   (...)\u001b[0m\n\u001b[0;32m    419\u001b[0m \u001b[38;5;124;03m        Fitted estimator.\u001b[39;00m\n\u001b[0;32m    420\u001b[0m \u001b[38;5;124;03m    \"\"\"\u001b[39;00m\n\u001b[1;32m--> 421\u001b[0m     X \u001b[38;5;241m=\u001b[39m \u001b[38;5;28mself\u001b[39m\u001b[38;5;241m.\u001b[39m_validate_input(X, in_fit\u001b[38;5;241m=\u001b[39m\u001b[38;5;28;01mTrue\u001b[39;00m)\n\u001b[0;32m    423\u001b[0m     \u001b[38;5;66;03m# default fill_value is 0 for numerical input and \"missing_value\"\u001b[39;00m\n\u001b[0;32m    424\u001b[0m     \u001b[38;5;66;03m# otherwise\u001b[39;00m\n\u001b[0;32m    425\u001b[0m     \u001b[38;5;28;01mif\u001b[39;00m \u001b[38;5;28mself\u001b[39m\u001b[38;5;241m.\u001b[39mfill_value \u001b[38;5;129;01mis\u001b[39;00m \u001b[38;5;28;01mNone\u001b[39;00m:\n",
      "File \u001b[1;32m~\\anaconda3\\Lib\\site-packages\\sklearn\\impute\\_base.py:348\u001b[0m, in \u001b[0;36mSimpleImputer._validate_input\u001b[1;34m(self, X, in_fit)\u001b[0m\n\u001b[0;32m    342\u001b[0m \u001b[38;5;28;01mif\u001b[39;00m \u001b[38;5;124m\"\u001b[39m\u001b[38;5;124mcould not convert\u001b[39m\u001b[38;5;124m\"\u001b[39m \u001b[38;5;129;01min\u001b[39;00m \u001b[38;5;28mstr\u001b[39m(ve):\n\u001b[0;32m    343\u001b[0m     new_ve \u001b[38;5;241m=\u001b[39m \u001b[38;5;167;01mValueError\u001b[39;00m(\n\u001b[0;32m    344\u001b[0m         \u001b[38;5;124m\"\u001b[39m\u001b[38;5;124mCannot use \u001b[39m\u001b[38;5;132;01m{}\u001b[39;00m\u001b[38;5;124m strategy with non-numeric data:\u001b[39m\u001b[38;5;130;01m\\n\u001b[39;00m\u001b[38;5;132;01m{}\u001b[39;00m\u001b[38;5;124m\"\u001b[39m\u001b[38;5;241m.\u001b[39mformat(\n\u001b[0;32m    345\u001b[0m             \u001b[38;5;28mself\u001b[39m\u001b[38;5;241m.\u001b[39mstrategy, ve\n\u001b[0;32m    346\u001b[0m         )\n\u001b[0;32m    347\u001b[0m     )\n\u001b[1;32m--> 348\u001b[0m     \u001b[38;5;28;01mraise\u001b[39;00m new_ve \u001b[38;5;28;01mfrom\u001b[39;00m \u001b[38;5;28;01mNone\u001b[39;00m\n\u001b[0;32m    349\u001b[0m \u001b[38;5;28;01melse\u001b[39;00m:\n\u001b[0;32m    350\u001b[0m     \u001b[38;5;28;01mraise\u001b[39;00m ve\n",
      "\u001b[1;31mValueError\u001b[0m: Cannot use mean strategy with non-numeric data:\ncould not convert string to float: '82.4069575)'"
     ]
    }
   ],
   "source": [
    "df[\"Computer_ CET_cuttoff \"] =sim.fit_transform(df[['Computer_ CET_cuttoff ']])"
   ]
  },
  {
   "cell_type": "code",
   "execution_count": 14,
   "id": "90d5fefd-fcf7-4829-b2fd-071016b2cf12",
   "metadata": {},
   "outputs": [
    {
     "name": "stdout",
     "output_type": "stream",
     "text": [
      "<class 'pandas.core.frame.DataFrame'>\n",
      "RangeIndex: 348 entries, 0 to 347\n",
      "Data columns (total 21 columns):\n",
      " #   Column                            Non-Null Count  Dtype  \n",
      "---  ------                            --------------  -----  \n",
      " 0   Institute code                    344 non-null    object \n",
      " 1   College Name                      348 non-null    object \n",
      " 2   Fees                              348 non-null    int64  \n",
      " 3   GOVERNMENT/PRIVATE                348 non-null    object \n",
      " 4   Location                          346 non-null    object \n",
      " 5   Computer_ CET_cuttoff             333 non-null    object \n",
      " 6   Computer_JEE_cuttoff              309 non-null    object \n",
      " 7   GENERAL_cuttoff                   337 non-null    object \n",
      " 8   OBC_cuttoffs                      319 non-null    object \n",
      " 9   SC/ST_cuttoff                     311 non-null    float64\n",
      " 10  EWS_cuttoffs                      310 non-null    object \n",
      " 11  Quota(management)(yes/no)         340 non-null    object \n",
      " 12  Intakes(seats)                    334 non-null    object \n",
      " 13  Placement   (on_campus)(yes/no)   339 non-null    object \n",
      " 14  college_hostels_available         342 non-null    object \n",
      " 15  Academic rating (out of 5)        23 non-null     float64\n",
      " 16  Faculty rating(out of 5)          331 non-null    float64\n",
      " 17  Infrastructure rating (out of 5)  327 non-null    float64\n",
      " 18  accomodation rating (out of 5)    17 non-null     float64\n",
      " 19  Placement rating (out of 5)       288 non-null    float64\n",
      " 20  Overall rating (out of 10)        0 non-null      float64\n",
      "dtypes: float64(7), int64(1), object(13)\n",
      "memory usage: 57.2+ KB\n"
     ]
    }
   ],
   "source": [
    "df.info()"
   ]
  },
  {
   "cell_type": "code",
   "execution_count": 18,
   "id": "1da8b456-d925-423e-92dd-b7d2dd8d0f3d",
   "metadata": {},
   "outputs": [
    {
     "data": {
      "text/plain": [
       "array(['80.04', '69', '75.17', '78', '87', '65.5', '89', '82.25', '59.9',\n",
       "       '71.3', '65.89', '78.9', '98.74', '89.9', '87.67', '82.36',\n",
       "       '80.98', '85.45', '78', '78.71', '88.81', '97.81', '94.8', '89.25',\n",
       "       '72', '74.14', '88.09', '82.87', '71.4', '95.45', '91.29', '86.36',\n",
       "       '69.78', '71.4', '67.71', '64.23', '70', '88.6', '61.43', '53.65',\n",
       "       '61.68', '79.79', '81.23', '59.68', '97.72', '96.14', '87.22', nan,\n",
       "       '70.51', '72.6119403', '82.4069575)', '85.9227307', '58.7429854',\n",
       "       '80.2375547', '76.7693871', '65.107535', '54.6979992', '60.750409',\n",
       "       '75.35', '85', '80.845414', '85', '79.5681', '56.7812', '70',\n",
       "       '56.7650589', '59.4192464', '32.2621925', '57.6946774', '54.12',\n",
       "       '47.76', '79.33', '69.6', '96.9302413', nan, '28.1605922',\n",
       "       '89.4839384', nan, nan, '95.8405342', '97.1424274', '89.9583318',\n",
       "       '71.4000828)', '85', '85', '85', '85', '85', '85', '98.274',\n",
       "       '98.285', '62.399', '91.262', '94.997', '45.644', '89.993',\n",
       "       '85.922', '93.405', '91.013', '85', '85', '85', '85', '85', '85',\n",
       "       '85', '85', '85', '85', '85', '85', '90', '85', '85', '85', '95',\n",
       "       '85', '85', '80', '85', '85', '85', '85', '85', '85', '85', '85',\n",
       "       '85', '85', '80', '85', '75', '80', '85', '65', '70', '60', '70',\n",
       "       '65', '85', '85', '85', '85', '85', '85', '85', '85', '85', '85',\n",
       "       '80', '87', '85', '71.72', '85', '85', '85', '85', '85', '85',\n",
       "       '85', '85', '85', '85', '85', '85', '85', '85', '85', '85', '80',\n",
       "       '70', '60', '90', '97', '91', '88', '85', '90', '83', '51', '88',\n",
       "       '71', '91', '84', '85', '54', '80', '92', nan, nan, nan, nan, nan,\n",
       "       nan, nan, nan, nan, '75.08', '95.55', '88.63', '94.44', '60.56',\n",
       "       '80.65', '85.55', '80.54', '80', '90', '80', '80', '60.72',\n",
       "       '69.04', '68.5', '59.93', '81.24', '60', '60', '94.62', '80.8',\n",
       "       '70', '70', '75', '80', '85', '75', '70', '80', '65', '70',\n",
       "       '43.5071268', '86.3770498', '70.6180504', '42.5530244)',\n",
       "       '96.3249371', nan, '99.9174143', '99.4594392', '85.4752553',\n",
       "       '93.3857089', '87.95', '78.95', '92.47', '93.4454', '95.342',\n",
       "       '92.47', '95.4545', '87.55', '92.47', '92', '98.89263', '94.39918',\n",
       "       '91.75', '88.2852988', nan, '63.54', '82.46', '84.52', '87.82',\n",
       "       '88.02', '81.12', '97.79', '94.82', '39.79', '17.6', '87.51',\n",
       "       '85.56', '83.64', '88.29', '97.13', '94.88', '83.63', '79.81',\n",
       "       '81.48', '99.67', '97.33', '99.23', '97.78', '84.5', '98.66',\n",
       "       '77.99', '97.21', '94.03', '97.56', '86.84', '92.8', '91.69',\n",
       "       '80.86', '98.05', '65.03', '87.6', '60', '66', '30', '60', '77',\n",
       "       '83', '50', '75', '0.7517', '77.85', '69.91', '92', '60', '70',\n",
       "       '65', '86', '78', '82', '85', '0.75', '0.85', '0.84', '85', '75',\n",
       "       '85', '90', '90', '95', '85', '47', '55', '60', '47', '50',\n",
       "       '30.59', '64.26', '77.41', '86.34', '82.2', '91.02', '71.98',\n",
       "       '92.04', '74.08', '90.65', '59.86', '94.19', '62.8', '30.59',\n",
       "       '78.34', '95.88', '74.14', '78.42', '67.4', '96.46', '90', '80',\n",
       "       '85', '95', '87'], dtype=object)"
      ]
     },
     "execution_count": 18,
     "metadata": {},
     "output_type": "execute_result"
    }
   ],
   "source": [
    "np.array(df['Computer_ CET_cuttoff '])"
   ]
  },
  {
   "cell_type": "code",
   "execution_count": 20,
   "id": "f0c509f1-b5ea-44bd-9bbc-26293e3c97a0",
   "metadata": {},
   "outputs": [
    {
     "name": "stdout",
     "output_type": "stream",
     "text": [
      "could not convert string to float: '82.4069575)'\n",
      "<built-in method with_traceback of ValueError object at 0x0000029BEE4057E0>\n"
     ]
    }
   ],
   "source": [
    "try:\n",
    "    df['Computer_ CET_cuttoff '].astype(float)\n",
    "except Exception as e:\n",
    "    print(e)\n",
    "    print(e.with_traceback)"
   ]
  },
  {
   "cell_type": "code",
   "execution_count": 32,
   "id": "fa1071ba-7dd4-4ffb-af4c-ab8ad4c89015",
   "metadata": {},
   "outputs": [],
   "source": [
    "df['Computer_ CET_cuttoff ']=df['Computer_ CET_cuttoff '].astype(str)"
   ]
  },
  {
   "cell_type": "code",
   "execution_count": 34,
   "id": "d547c71f-c681-4f54-917d-03f86d2b4242",
   "metadata": {},
   "outputs": [],
   "source": [
    "li=[]\n",
    "for i in range(len(df['Computer_ CET_cuttoff '])): \n",
    "    li.append(df['Computer_ CET_cuttoff '].iloc[i].split('.')[0])"
   ]
  },
  {
   "cell_type": "code",
   "execution_count": 36,
   "id": "3d98c4c5-20c0-4275-8d48-8aa747ea017e",
   "metadata": {},
   "outputs": [],
   "source": [
    "df['Computer_ CET_cuttoff']=li"
   ]
  },
  {
   "cell_type": "code",
   "execution_count": 39,
   "id": "230a6181-9baa-4733-87a5-d6d811cfdb63",
   "metadata": {},
   "outputs": [],
   "source": [
    "df['Computer_ CET_cuttoff']=sim.fit_transform(df[['Computer_ CET_cuttoff']])"
   ]
  },
  {
   "cell_type": "code",
   "execution_count": 41,
   "id": "55a57b60-98e7-455b-ba9a-3aa8c462c6d4",
   "metadata": {},
   "outputs": [],
   "source": [
    "df['Computer_ CET_cuttoff']=df['Computer_ CET_cuttoff'].astype(int)"
   ]
  },
  {
   "cell_type": "code",
   "execution_count": null,
   "id": "f1ab0443-6cb7-4092-a3ce-a9dfef418830",
   "metadata": {},
   "outputs": [],
   "source": []
  }
 ],
 "metadata": {
  "kernelspec": {
   "display_name": "Python 3 (ipykernel)",
   "language": "python",
   "name": "python3"
  },
  "language_info": {
   "codemirror_mode": {
    "name": "ipython",
    "version": 3
   },
   "file_extension": ".py",
   "mimetype": "text/x-python",
   "name": "python",
   "nbconvert_exporter": "python",
   "pygments_lexer": "ipython3",
   "version": "3.11.7"
  },
  "widgets": {
   "application/vnd.jupyter.widget-state+json": {
    "state": {},
    "version_major": 2,
    "version_minor": 0
   }
  }
 },
 "nbformat": 4,
 "nbformat_minor": 5
}
